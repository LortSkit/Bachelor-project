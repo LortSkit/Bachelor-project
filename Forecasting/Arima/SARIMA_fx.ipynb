{
 "cells": [
  {
   "cell_type": "code",
   "execution_count": 1,
   "id": "8717963e",
   "metadata": {},
   "outputs": [],
   "source": [
    "import pandas as pd\n",
    "import numpy as np\n",
    "import matplotlib.pyplot as plt\n",
    "from contextlib import redirect_stdout\n",
    "\n",
    "%matplotlib inline\n",
    "plt.rcParams[\"figure.figsize\"] = (20,3)\n",
    "\n",
    "from pmdarima.arima import auto_arima, ADFTest\n",
    "from sklearn.metrics import mean_squared_error\n",
    "\n",
    "import sys\n",
    "import os\n",
    "\n",
    "sys.path.append('C:\\\\Users\\\\vidis\\\\OneDrive\\\\Desktop\\\\Spring23\\\\BachelorProject\\\\Bachelor-project\\\\Functions')\n",
    "from Merge import merge\n",
    "from SARIMAfx import SARIMA"
   ]
  },
  {
   "cell_type": "code",
   "execution_count": 2,
   "id": "9585e83b",
   "metadata": {},
   "outputs": [],
   "source": [
    "h16 = SARIMA('h16')"
   ]
  },
  {
   "cell_type": "code",
   "execution_count": null,
   "id": "03704ebc",
   "metadata": {},
   "outputs": [
    {
     "name": "stdout",
     "output_type": "stream",
     "text": [
      "Performing stepwise search to minimize aic\n",
      " ARIMA(0,1,0)(0,0,0)[24] intercept   : AIC=15503.832, Time=0.09 sec\n",
      " ARIMA(1,1,0)(1,0,0)[24] intercept   : AIC=14557.220, Time=2.11 sec\n",
      " ARIMA(0,1,1)(0,0,1)[24] intercept   : AIC=14828.774, Time=2.28 sec\n",
      " ARIMA(0,1,0)(0,0,0)[24]             : AIC=15501.832, Time=0.13 sec\n",
      " ARIMA(1,1,0)(0,0,0)[24] intercept   : AIC=14993.016, Time=0.49 sec\n",
      " ARIMA(1,1,0)(2,0,0)[24] intercept   : AIC=14236.271, Time=13.20 sec\n",
      " ARIMA(1,1,0)(2,0,1)[24] intercept   : AIC=inf, Time=32.83 sec\n",
      " ARIMA(1,1,0)(1,0,1)[24] intercept   : AIC=inf, Time=6.03 sec\n",
      " ARIMA(0,1,0)(2,0,0)[24] intercept   : AIC=14234.282, Time=11.78 sec\n",
      " ARIMA(0,1,0)(1,0,0)[24] intercept   : AIC=14579.974, Time=1.50 sec\n",
      " ARIMA(0,1,0)(2,0,1)[24] intercept   : AIC=inf, Time=29.36 sec\n",
      " ARIMA(0,1,0)(1,0,1)[24] intercept   : AIC=inf, Time=4.77 sec\n",
      " ARIMA(0,1,1)(2,0,0)[24] intercept   : AIC=14236.273, Time=11.16 sec\n",
      " ARIMA(1,1,1)(2,0,0)[24] intercept   : AIC=inf, Time=72.45 sec\n",
      " ARIMA(0,1,0)(2,0,0)[24]             : AIC=14232.282, Time=3.06 sec\n",
      " ARIMA(0,1,0)(1,0,0)[24]             : AIC=14577.974, Time=0.52 sec\n",
      " ARIMA(0,1,0)(2,0,1)[24]             : AIC=inf, Time=14.17 sec\n",
      " ARIMA(0,1,0)(1,0,1)[24]             : AIC=inf, Time=2.85 sec\n",
      " ARIMA(1,1,0)(2,0,0)[24]             : AIC=14234.271, Time=3.93 sec\n",
      " ARIMA(0,1,1)(2,0,0)[24]             : AIC=14234.273, Time=3.88 sec\n"
     ]
    }
   ],
   "source": [
    "of = h16.SARIMA('2022-06-20 04:00:00','2022-06-21 01:00:00')"
   ]
  },
  {
   "cell_type": "code",
   "execution_count": null,
   "id": "1588578f",
   "metadata": {},
   "outputs": [],
   "source": []
  }
 ],
 "metadata": {
  "kernelspec": {
   "display_name": "Python 3 (ipykernel)",
   "language": "python",
   "name": "python3"
  },
  "language_info": {
   "codemirror_mode": {
    "name": "ipython",
    "version": 3
   },
   "file_extension": ".py",
   "mimetype": "text/x-python",
   "name": "python",
   "nbconvert_exporter": "python",
   "pygments_lexer": "ipython3",
   "version": "3.7.16"
  }
 },
 "nbformat": 4,
 "nbformat_minor": 5
}
