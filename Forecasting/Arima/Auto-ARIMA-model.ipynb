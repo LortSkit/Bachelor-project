{
 "cells": [
  {
   "cell_type": "code",
   "execution_count": 1,
   "id": "8717963e",
   "metadata": {},
   "outputs": [],
   "source": [
    "import pandas as pd\n",
    "import numpy as np\n",
    "import matplotlib.pyplot as plt\n",
    "from contextlib import redirect_stdout\n",
    "\n",
    "%matplotlib inline\n",
    "plt.rcParams[\"figure.figsize\"] = (20,3)\n",
    "\n",
    "from pmdarima.arima import auto_arima, ADFTest\n",
    "\n",
    "from sklearn.metrics import mean_squared_error\n",
    "\n",
    "import multiprocessing"
   ]
  },
  {
   "cell_type": "code",
   "execution_count": 2,
   "id": "4181f9b7",
   "metadata": {},
   "outputs": [
    {
     "name": "stdout",
     "output_type": "stream",
     "text": [
      "8\n"
     ]
    }
   ],
   "source": [
    "num_cores = multiprocessing.cpu_count()\n",
    "print(num_cores)"
   ]
  },
  {
   "cell_type": "code",
   "execution_count": 6,
   "id": "019c060c",
   "metadata": {},
   "outputs": [],
   "source": [
    "pf = pd.read_csv('C:/Users/vidis/OneDrive/Desktop/Spring23/BachelorProject/pf_filled.csv')\n",
    "cf = pd.read_csv('C:/Users/vidis/OneDrive/Desktop/Spring23/BachelorProject/cf_filled.csv')\n",
    "\n",
    "arr = pf[['Time','prod_k28']].set_index(pd.to_datetime(pf['Time']))\n",
    "arr = arr.drop(['Time'],axis=1)"
   ]
  },
  {
   "cell_type": "code",
   "execution_count": null,
   "id": "2b7c4944",
   "metadata": {},
   "outputs": [
    {
     "name": "stdout",
     "output_type": "stream",
     "text": [
      "Performing stepwise search to minimize aic\n",
      " ARIMA(0,1,0)(0,1,0)[24]             : AIC=10811.379, Time=0.92 sec\n"
     ]
    }
   ],
   "source": [
    "i = 0\n",
    "j = 3000\n",
    "\n",
    "mse = []\n",
    "\n",
    "while j <(3048):\n",
    "    test_ = pd.DataFrame()\n",
    "    pred_ = pd.DataFrame()\n",
    "    \n",
    "    train = arr[i:j]\n",
    "    test = arr[j:(j+24)]\n",
    "    \n",
    "    arima_model = auto_arima(train, start_p=0, d=1, start_q=0, \n",
    "                        max_p = 5, max_d=5, max_q=5, start_P=0,\n",
    "                        D=1, start_Q=0, m=24, seasonal=True, \n",
    "                        error_action='warn', trace=True, supress_warning=True,\n",
    "                        stepwise=True, random_state=20, n_fits=50, n_jobs=1) #weird multiprocessing thing\n",
    "    \n",
    "    pred = arima_model.predict(n_periods=24)    \n",
    "    mse.append(mean_squared_error(test['prod_k28'],pred))\n",
    "    \n",
    "    test_ = test_.append(test)\n",
    "    pred_ = pred_.append(pd.DataFrame(pred))\n",
    "    pred_ = pred_.set_index(test_.index)\n",
    "    \n",
    "    test_.to_csv('test_.csv', mode='a', header=False)\n",
    "    pred_.to_csv('pred_.csv', mode='a', header=False)\n",
    "    \n",
    "    plt.plot(test_)\n",
    "    plt.plot(pred_)\n",
    "    plt.show()\n",
    "    \n",
    "    plt.plot(np.arange(0,len(mse)), mse)\n",
    "    plt.show()\n",
    "    \n",
    "    i +=24\n",
    "    j +=24"
   ]
  },
  {
   "cell_type": "code",
   "execution_count": null,
   "id": "c4175783",
   "metadata": {},
   "outputs": [],
   "source": []
  }
 ],
 "metadata": {
  "kernelspec": {
   "display_name": "Python 3 (ipykernel)",
   "language": "python",
   "name": "python3"
  },
  "language_info": {
   "codemirror_mode": {
    "name": "ipython",
    "version": 3
   },
   "file_extension": ".py",
   "mimetype": "text/x-python",
   "name": "python",
   "nbconvert_exporter": "python",
   "pygments_lexer": "ipython3",
   "version": "3.7.12"
  }
 },
 "nbformat": 4,
 "nbformat_minor": 5
}
