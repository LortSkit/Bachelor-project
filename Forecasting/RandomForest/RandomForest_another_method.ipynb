{
 "cells": [
  {
   "cell_type": "code",
   "execution_count": 54,
   "id": "bd7af510",
   "metadata": {},
   "outputs": [],
   "source": [
    "import pandas as pd\n",
    "from pandas import DataFrame\n",
    "import numpy as np\n",
    "import matplotlib.pyplot as plt\n",
    "\n",
    "from sklearn.feature_selection import RFE\n",
    "from sklearn.ensemble import RandomForestRegressor\n",
    "\n",
    "from datetime import timedelta\n",
    "import calendar\n",
    "\n",
    "from statsmodels.tsa.stattools import adfuller\n",
    "from sklearn.metrics import mean_squared_error as mse"
   ]
  },
  {
   "cell_type": "code",
   "execution_count": 55,
   "id": "2fdd1d21",
   "metadata": {},
   "outputs": [],
   "source": [
    "pf = pd.read_csv('pf_filled.csv')\n",
    "cf = pd.read_csv('cf_filled.csv')"
   ]
  },
  {
   "cell_type": "code",
   "execution_count": 56,
   "id": "d0a5e36e",
   "metadata": {},
   "outputs": [],
   "source": [
    "pf = pf[['Time','prod_k28']]\n",
    "cf = cf[['Time','cons_k28']]\n",
    "pf = pf.set_index(pd.to_datetime(pf['Time'])).drop(['Time'],axis=1)\n",
    "cf = cf.set_index(pd.to_datetime(cf['Time'])).drop(['Time'],axis=1)"
   ]
  },
  {
   "cell_type": "code",
   "execution_count": 57,
   "id": "4a7c69f1",
   "metadata": {},
   "outputs": [
    {
     "name": "stdout",
     "output_type": "stream",
     "text": [
      "1.2533731827072616e-06\n",
      "3.225671828216624e-24\n"
     ]
    }
   ],
   "source": [
    "# is stationary\n",
    "print(adfuller(pf)[1])\n",
    "print(adfuller(cf)[1])"
   ]
  },
  {
   "cell_type": "code",
   "execution_count": 58,
   "id": "d6825851",
   "metadata": {},
   "outputs": [],
   "source": [
    "dataframe = DataFrame()\n",
    "for i in [1,2,4,24,48,24*7]:\n",
    "   dataframe['t-' + str(i)] = pf.shift(i)\n",
    "final_data = pd.concat([pf, dataframe], axis=1)\n",
    "final_data.dropna(inplace=True)"
   ]
  },
  {
   "cell_type": "code",
   "execution_count": 59,
   "id": "c224dcfe",
   "metadata": {},
   "outputs": [],
   "source": [
    "final_data['Hour'] = final_data.index.hour\n",
    "final_data['Day'] = final_data.index.day_of_week\n",
    "final_data['Month'] = final_data.index.month\n",
    "final_data['Year'] = final_data.index.year\n",
    "final_data = final_data.reset_index()"
   ]
  },
  {
   "cell_type": "code",
   "execution_count": 60,
   "id": "a6ecff92",
   "metadata": {},
   "outputs": [
    {
     "name": "stdout",
     "output_type": "stream",
     "text": [
      "Starting model train..\n"
     ]
    }
   ],
   "source": [
    "finaldf = final_data.drop(['Time'], axis=1)\n",
    "finaldf = finaldf.reset_index(drop=True)\n",
    "test_length=24\n",
    "end_point = len(finaldf)\n",
    "x = end_point - test_length\n",
    "finaldf_train = finaldf.loc[:x - 1, :]\n",
    "finaldf_test = finaldf.loc[x:, :]\n",
    "finaldf_test_x = finaldf_test.loc[:, finaldf_test.columns != 'prod_k28']\n",
    "finaldf_test_y = finaldf_test['prod_k28']\n",
    "finaldf_train_x = finaldf_train.loc[:, finaldf_train.columns != 'prod_k28']\n",
    "finaldf_train_y = finaldf_train['prod_k28']\n",
    "print(\"Starting model train..\")\n",
    "rfe = RFE(RandomForestRegressor(n_estimators=100, random_state=1), n_features_to_select=4)\n",
    "fit = rfe.fit(finaldf_train_x, finaldf_train_y)\n",
    "y_pred = fit.predict(finaldf_test_x)"
   ]
  },
  {
   "cell_type": "code",
   "execution_count": 61,
   "id": "5bcc134e",
   "metadata": {},
   "outputs": [
    {
     "data": {
      "text/plain": [
       "0.20526077932728817"
      ]
     },
     "execution_count": 61,
     "metadata": {},
     "output_type": "execute_result"
    }
   ],
   "source": [
    "mse(y_pred,finaldf_test_y.values)"
   ]
  },
  {
   "cell_type": "code",
   "execution_count": 62,
   "id": "7647f654",
   "metadata": {},
   "outputs": [
    {
     "data": {
      "image/png": "[encoded data removed]",
      "text/plain": [
       "<Figure size 640x480 with 1 Axes>"
      ]
     },
     "metadata": {},
     "output_type": "display_data"
    }
   ],
   "source": [
    "plt.plot(y_pred,label='pred')\n",
    "plt.plot(finaldf_test_y.values,label='test')\n",
    "plt.legend()\n",
    "plt.show()"
   ]
  },
  {
   "cell_type": "code",
   "execution_count": 63,
   "id": "962dd350",
   "metadata": {},
   "outputs": [
    {
     "data": {
      "text/plain": [
       "array(['t-1', 't-24', 't-48', 'Hour'], dtype=object)"
      ]
     },
     "execution_count": 63,
     "metadata": {},
     "output_type": "execute_result"
    }
   ],
   "source": [
    "rfe.get_feature_names_out()"
   ]
  },
  {
   "cell_type": "code",
   "execution_count": null,
   "id": "9d35fab8",
   "metadata": {},
   "outputs": [],
   "source": []
  }
 ],
 "metadata": {
  "kernelspec": {
   "display_name": "Python 3 (ipykernel)",
   "language": "python",
   "name": "python3"
  },
  "language_info": {
   "codemirror_mode": {
    "name": "ipython",
    "version": 3
   },
   "file_extension": ".py",
   "mimetype": "text/x-python",
   "name": "python",
   "nbconvert_exporter": "python",
   "pygments_lexer": "ipython3",
   "version": "3.7.16"
  }
 },
 "nbformat": 4,
 "nbformat_minor": 5
}
