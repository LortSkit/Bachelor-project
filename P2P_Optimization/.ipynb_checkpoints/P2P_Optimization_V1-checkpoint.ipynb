{
 "cells": [
  {
   "cell_type": "code",
   "execution_count": 1,
   "id": "18e9c83d",
   "metadata": {},
   "outputs": [
    {
     "ename": "KeyboardInterrupt",
     "evalue": "",
     "output_type": "error",
     "traceback": [
      "\u001b[1;31m---------------------------------------------------------------------------\u001b[0m",
      "\u001b[1;31mKeyboardInterrupt\u001b[0m                         Traceback (most recent call last)",
      "\u001b[1;32m~\\AppData\\Local\\Temp\\ipykernel_25892\\3541931304.py\u001b[0m in \u001b[0;36m<module>\u001b[1;34m\u001b[0m\n\u001b[0;32m      4\u001b[0m \u001b[0mparent\u001b[0m \u001b[1;33m=\u001b[0m \u001b[0mos\u001b[0m\u001b[1;33m.\u001b[0m\u001b[0mpath\u001b[0m\u001b[1;33m.\u001b[0m\u001b[0mdirname\u001b[0m\u001b[1;33m(\u001b[0m\u001b[0mcurrent\u001b[0m\u001b[1;33m)\u001b[0m\u001b[1;33m\u001b[0m\u001b[1;33m\u001b[0m\u001b[0m\n\u001b[0;32m      5\u001b[0m \u001b[0msys\u001b[0m\u001b[1;33m.\u001b[0m\u001b[0mpath\u001b[0m\u001b[1;33m.\u001b[0m\u001b[0mappend\u001b[0m\u001b[1;33m(\u001b[0m\u001b[0mparent\u001b[0m\u001b[1;33m+\u001b[0m\u001b[1;34m\"\\Functions\"\u001b[0m\u001b[1;33m)\u001b[0m\u001b[1;33m\u001b[0m\u001b[1;33m\u001b[0m\u001b[0m\n\u001b[1;32m----> 6\u001b[1;33m \u001b[1;32mimport\u001b[0m \u001b[0mmatplotlib\u001b[0m\u001b[1;33m.\u001b[0m\u001b[0mpyplot\u001b[0m \u001b[1;32mas\u001b[0m \u001b[0mplt\u001b[0m\u001b[1;33m\u001b[0m\u001b[1;33m\u001b[0m\u001b[0m\n\u001b[0m\u001b[0;32m      7\u001b[0m \u001b[0mplt\u001b[0m\u001b[1;33m.\u001b[0m\u001b[0mrcParams\u001b[0m\u001b[1;33m[\u001b[0m\u001b[1;34m\"figure.figsize\"\u001b[0m\u001b[1;33m]\u001b[0m \u001b[1;33m=\u001b[0m \u001b[1;33m(\u001b[0m\u001b[1;36m15\u001b[0m\u001b[1;33m,\u001b[0m\u001b[1;36m10\u001b[0m\u001b[1;33m)\u001b[0m\u001b[1;33m\u001b[0m\u001b[1;33m\u001b[0m\u001b[0m\n\u001b[0;32m      8\u001b[0m \u001b[1;33m\u001b[0m\u001b[0m\n",
      "\u001b[1;32m~\\AppData\\Roaming\\Python\\Python39\\site-packages\\matplotlib\\__init__.py\u001b[0m in \u001b[0;36m<module>\u001b[1;34m\u001b[0m\n\u001b[0;32m    102\u001b[0m \u001b[1;32mimport\u001b[0m \u001b[0mwarnings\u001b[0m\u001b[1;33m\u001b[0m\u001b[1;33m\u001b[0m\u001b[0m\n\u001b[0;32m    103\u001b[0m \u001b[1;33m\u001b[0m\u001b[0m\n\u001b[1;32m--> 104\u001b[1;33m \u001b[1;32mimport\u001b[0m \u001b[0mnumpy\u001b[0m\u001b[1;33m\u001b[0m\u001b[1;33m\u001b[0m\u001b[0m\n\u001b[0m\u001b[0;32m    105\u001b[0m \u001b[1;32mfrom\u001b[0m \u001b[0mpackaging\u001b[0m\u001b[1;33m.\u001b[0m\u001b[0mversion\u001b[0m \u001b[1;32mimport\u001b[0m \u001b[0mparse\u001b[0m \u001b[1;32mas\u001b[0m \u001b[0mparse_version\u001b[0m\u001b[1;33m\u001b[0m\u001b[1;33m\u001b[0m\u001b[0m\n\u001b[0;32m    106\u001b[0m \u001b[1;33m\u001b[0m\u001b[0m\n",
      "\u001b[1;32m~\\AppData\\Roaming\\Python\\Python39\\site-packages\\numpy\\__init__.py\u001b[0m in \u001b[0;36m<module>\u001b[1;34m\u001b[0m\n\u001b[0;32m    142\u001b[0m     \u001b[1;32mfrom\u001b[0m \u001b[1;33m.\u001b[0m \u001b[1;32mimport\u001b[0m \u001b[0m_distributor_init\u001b[0m\u001b[1;33m\u001b[0m\u001b[1;33m\u001b[0m\u001b[0m\n\u001b[0;32m    143\u001b[0m \u001b[1;33m\u001b[0m\u001b[0m\n\u001b[1;32m--> 144\u001b[1;33m     \u001b[1;32mfrom\u001b[0m \u001b[1;33m.\u001b[0m \u001b[1;32mimport\u001b[0m \u001b[0mcore\u001b[0m\u001b[1;33m\u001b[0m\u001b[1;33m\u001b[0m\u001b[0m\n\u001b[0m\u001b[0;32m    145\u001b[0m     \u001b[1;32mfrom\u001b[0m \u001b[1;33m.\u001b[0m\u001b[0mcore\u001b[0m \u001b[1;32mimport\u001b[0m \u001b[1;33m*\u001b[0m\u001b[1;33m\u001b[0m\u001b[1;33m\u001b[0m\u001b[0m\n\u001b[0;32m    146\u001b[0m     \u001b[1;32mfrom\u001b[0m \u001b[1;33m.\u001b[0m \u001b[1;32mimport\u001b[0m \u001b[0mcompat\u001b[0m\u001b[1;33m\u001b[0m\u001b[1;33m\u001b[0m\u001b[0m\n",
      "\u001b[1;32m~\\AppData\\Roaming\\Python\\Python39\\site-packages\\numpy\\core\\__init__.py\u001b[0m in \u001b[0;36m<module>\u001b[1;34m\u001b[0m\n\u001b[0;32m    172\u001b[0m \u001b[1;32mdel\u001b[0m \u001b[0m_DType_reduce\u001b[0m\u001b[1;33m\u001b[0m\u001b[1;33m\u001b[0m\u001b[0m\n\u001b[0;32m    173\u001b[0m \u001b[1;33m\u001b[0m\u001b[0m\n\u001b[1;32m--> 174\u001b[1;33m \u001b[1;32mfrom\u001b[0m \u001b[0mnumpy\u001b[0m\u001b[1;33m.\u001b[0m\u001b[0m_pytesttester\u001b[0m \u001b[1;32mimport\u001b[0m \u001b[0mPytestTester\u001b[0m\u001b[1;33m\u001b[0m\u001b[1;33m\u001b[0m\u001b[0m\n\u001b[0m\u001b[0;32m    175\u001b[0m \u001b[0mtest\u001b[0m \u001b[1;33m=\u001b[0m \u001b[0mPytestTester\u001b[0m\u001b[1;33m(\u001b[0m\u001b[0m__name__\u001b[0m\u001b[1;33m)\u001b[0m\u001b[1;33m\u001b[0m\u001b[1;33m\u001b[0m\u001b[0m\n\u001b[0;32m    176\u001b[0m \u001b[1;32mdel\u001b[0m \u001b[0mPytestTester\u001b[0m\u001b[1;33m\u001b[0m\u001b[1;33m\u001b[0m\u001b[0m\n",
      "\u001b[1;32mC:\\ProgramData\\Anaconda3\\lib\\importlib\\_bootstrap.py\u001b[0m in \u001b[0;36m_find_and_load\u001b[1;34m(name, import_)\u001b[0m\n",
      "\u001b[1;32mC:\\ProgramData\\Anaconda3\\lib\\importlib\\_bootstrap.py\u001b[0m in \u001b[0;36m_find_and_load_unlocked\u001b[1;34m(name, import_)\u001b[0m\n",
      "\u001b[1;32mC:\\ProgramData\\Anaconda3\\lib\\importlib\\_bootstrap.py\u001b[0m in \u001b[0;36m_find_spec\u001b[1;34m(name, path, target)\u001b[0m\n",
      "\u001b[1;32mC:\\ProgramData\\Anaconda3\\lib\\importlib\\_bootstrap_external.py\u001b[0m in \u001b[0;36mfind_spec\u001b[1;34m(cls, fullname, path, target)\u001b[0m\n",
      "\u001b[1;32mC:\\ProgramData\\Anaconda3\\lib\\importlib\\_bootstrap_external.py\u001b[0m in \u001b[0;36m_get_spec\u001b[1;34m(cls, fullname, path, target)\u001b[0m\n",
      "\u001b[1;32mC:\\ProgramData\\Anaconda3\\lib\\importlib\\_bootstrap_external.py\u001b[0m in \u001b[0;36mfind_spec\u001b[1;34m(self, fullname, target)\u001b[0m\n",
      "\u001b[1;32mC:\\ProgramData\\Anaconda3\\lib\\importlib\\_bootstrap_external.py\u001b[0m in \u001b[0;36m_path_stat\u001b[1;34m(path)\u001b[0m\n",
      "\u001b[1;31mKeyboardInterrupt\u001b[0m: "
     ]
    }
   ],
   "source": [
    "import sys\n",
    "import os\n",
    "current = os.path.dirname(os.path.realpath(\"Single-House-Optimization.py\"))\n",
    "parent = os.path.dirname(current)\n",
    "sys.path.append(parent+\"\\Functions\")\n",
    "import matplotlib.pyplot as plt\n",
    "plt.rcParams[\"figure.figsize\"] = (15,10)\n",
    "\n",
    "import numpy as np\n",
    "import pandas as pd\n",
    "from copy import deepcopy\n",
    "from Merge import merge\n",
    "from copy import deepcopy\n",
    "from Logic import logic_rollout, action_rollout, pred_logic_rollout, print_price_summary, logic_series_print\n",
    "from Battery import Battery\n",
    "from Predictions import RF\n",
    "from DPModel import DP_P2P"
   ]
  },
  {
   "cell_type": "code",
   "execution_count": null,
   "id": "5fef66e4",
   "metadata": {},
   "outputs": [],
   "source": [
    "Start = '2022-06-19 00:00:00'\n",
    "End = '2022-06-19 23:00:00'\n",
    "N = len(pd.date_range(start=Start,end=End,freq=\"h\"))\n",
    "\n",
    "bat = Battery(max_capacity=13,max_charge=7)\n",
    "max_number_states=20\n",
    "houses = [\"h16\",\"h28\",\"k28\"]\n",
    "merges = [merge(house) for house in houses]\n",
    "x0 = (0,10,0)\n",
    "\n",
    "rf_models = [RF(house) for house in houses]\n",
    "\n",
    "stepsize = 2"
   ]
  },
  {
   "cell_type": "code",
   "execution_count": null,
   "id": "b6bddfd2",
   "metadata": {},
   "outputs": [],
   "source": [
    "num_loops = int(np.ceil(N/stepsize))\n",
    "remainder = N%stepsize\n",
    "length = stepsize\n",
    "Start_i = Start\n",
    "x0_i = x0\n",
    "\n",
    "series = [pd.DataFrame() for _ in range(len(houses))]\n",
    "\n",
    "for i in range(num_loops):\n",
    "    if i == num_loops-1:\n",
    "        length = length if remainder == 0 else remainder\n",
    "\n",
    "    End_i = pd.date_range(start=Start_i, periods=24, freq=\"h\")[-1]\n",
    "    \n",
    "    print(f\"Loop number {i+1} of {num_loops}\")\n",
    "    print(f\"Predicting period from {Start_i} to {End_i} (n = {len(pd.date_range(Start_i, End_i, freq='H'))})\")\n",
    "    \n",
    "    preds_i = [rf.get_predictions(Start_i, End_i, get_carb = j==0) for j,rf in enumerate(rf_models)]\n",
    "    \n",
    "    for j in range(len(preds_i)-1):\n",
    "        preds_i[j+1][\"CO2Emission\"] = preds_i[0][\"CO2Emission\"]\n",
    "        \n",
    "    print()\n",
    "    print(f\"Taking actions the first {length} actions from {Start_i} to {preds_i[0].index[length-1]}\")\n",
    "    \n",
    "    dpp2p = DP_P2P(Start_i,End_i,preds_i,houses,deepcopy(bat))\n",
    "    dpp2p.P2P_sol(x0_i, max_number_states=20, byday=True, verbose=True, acts=False)\n",
    "    dpp2p.merges = merges\n",
    "    dpp2p.ep = rf_models[0].get_emissions(Start_i, End_i)/1000\n",
    "    dpp2p.constraints_ord = None\n",
    "    dpp2p.P2P_sol(x0_i, max_number_states=20, byday=True, verbose=True, acts=True)\n",
    "    \n",
    "    series_i = dpp2p.all_series\n",
    "    \n",
    "    for j in range(len(series_i)):\n",
    "        series_i[j] = series_i[j].iloc[:length, ]\n",
    "    \n",
    "    Start_i = pd.date_range(start=Start_i,periods=length+1,freq=\"h\")[-1]\n",
    "    \n",
    "    temp = list(x0_i)\n",
    "    for j in range(len(series_i)):\n",
    "        temp[j] = series_i[j][\"capacity_after\"].iloc[length-1]\n",
    "        \n",
    "    x0_i = tuple(temp)\n",
    "        \n",
    "    for j in range(len(houses)):\n",
    "        series[j] = pd.concat([series[j],series_i[j]])\n",
    "    \n",
    "    \n",
    "    results_dict = {house: series[j] for j, house in enumerate(houses)}\n",
    "    print()\n",
    "    print(\"Done!\")\n",
    "    print()\n",
    "    print()\n",
    "    \n",
    "for j in range(len(houses)):\n",
    "    series[j][\"cost_cummulative\"] = series[j][\"cost\"].cumsum(axis=0)\n",
    "    series[j][\"emission_cummulative\"] = series[j][\"emission\"].cumsum(axis=0)\n",
    "    "
   ]
  },
  {
   "cell_type": "code",
   "execution_count": null,
   "id": "41169996",
   "metadata": {},
   "outputs": [],
   "source": [
    "logic_series_print(series[0], p2p=True)"
   ]
  },
  {
   "cell_type": "code",
   "execution_count": null,
   "id": "9c068e03",
   "metadata": {},
   "outputs": [],
   "source": [
    "logic_series_print(series[1], p2p=True)"
   ]
  },
  {
   "cell_type": "code",
   "execution_count": null,
   "id": "52b78360",
   "metadata": {},
   "outputs": [],
   "source": [
    "logic_series_print(series[2], p2p=True)"
   ]
  },
  {
   "cell_type": "code",
   "execution_count": null,
   "id": "2a09d0ee",
   "metadata": {},
   "outputs": [],
   "source": []
  }
 ],
 "metadata": {
  "kernelspec": {
   "display_name": "Python 3 (ipykernel)",
   "language": "python",
   "name": "python3"
  },
  "language_info": {
   "codemirror_mode": {
    "name": "ipython",
    "version": 3
   },
   "file_extension": ".py",
   "mimetype": "text/x-python",
   "name": "python",
   "nbconvert_exporter": "python",
   "pygments_lexer": "ipython3",
   "version": "3.9.13"
  }
 },
 "nbformat": 4,
 "nbformat_minor": 5
}
