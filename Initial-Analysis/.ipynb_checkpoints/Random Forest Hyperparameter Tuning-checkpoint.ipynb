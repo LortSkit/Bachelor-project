{
 "cells": [
  {
   "cell_type": "code",
   "execution_count": 1,
   "id": "f2c9cd7a",
   "metadata": {},
   "outputs": [],
   "source": [
    "import pandas as pd\n",
    "import numpy as np\n",
    "import matplotlib.pyplot as plt\n",
    "\n",
    "#For random forest for time series:\n",
    "from skforecast.ForecasterAutoreg import ForecasterAutoreg\n",
    "from skforecast.ForecasterAutoregCustom import ForecasterAutoregCustom\n",
    "from skforecast.ForecasterAutoregMultiOutput import ForecasterAutoregMultiOutput\n",
    "from skforecast.model_selection import grid_search_forecaster\n",
    "from skforecast.model_selection import backtesting_forecaster"
   ]
  },
  {
   "cell_type": "code",
   "execution_count": 2,
   "id": "c2b5571e",
   "metadata": {},
   "outputs": [],
   "source": [
    "def arr(file):\n",
    "    df = pd.DataFrame()\n",
    "    df['Time'] = pd.date_range('2020-12-21 23:00:00', '2023-01-10 20:00:00', freq='H')\n",
    "    \n",
    "    temp = pd.read_excel(file)\n",
    "    temp = temp[['time', 'E_min_min']]\n",
    "    temp['time'] = pd.to_datetime(temp['time'], format = '%d.%m.%Y %H:%M')\n",
    "    temp.columns = ['Time', 'E_min_min']\n",
    "    \n",
    "    df = df.merge(temp, on='Time', how='left').fillna(np.nan)\n",
    "    \n",
    "    arr = [np.nan]\n",
    "    i = 1\n",
    "    while i <= len(df)-1:\n",
    "        if df.iloc[i-1]['E_min_min']==np.nan:\n",
    "            arr.append(np.nan)\n",
    "        elif df.iloc[i]['E_min_min']==np.nan:\n",
    "            arr.append(np.nan)\n",
    "        else:\n",
    "            arr.append((df.iloc[i]['E_min_min']-df.iloc[i-1]['E_min_min']))\n",
    "        i+=1\n",
    "    df[file] = arr\n",
    "    return df[['Time',file]]"
   ]
  },
  {
   "cell_type": "code",
   "execution_count": 3,
   "id": "5fd7e0de",
   "metadata": {},
   "outputs": [],
   "source": [
    "units_to_forecast = 24\n",
    "\n",
    "#Idk if this works:\n",
    "def moving_average(timeseries, window):\n",
    "    return timeseries.rolling(window=window, center=True).mean()\n",
    "\n",
    "#train = train_series[:24*365-units_to_forecast]\n",
    "#test = train_series[24*365-units_to_forecast:24*365]\n",
    "\n",
    "#fig, ax=plt.subplots(figsize=(11, 3))\n",
    "#moving_average(train['num_kwh'], 3).sort_index().plot(ax=ax, label='train', color='blue')\n",
    "#moving_average(test['num_kwh'], 1).sort_index().plot(ax=ax, label='test', color='orange')\n",
    "#ax.legend();\n",
    "\n"
   ]
  },
  {
   "cell_type": "markdown",
   "id": "285bdaab",
   "metadata": {},
   "source": [
    "## Short test forcast"
   ]
  },
  {
   "cell_type": "code",
   "execution_count": null,
   "id": "fcb06097",
   "metadata": {},
   "outputs": [],
   "source": [
    "forecaster = ForecasterAutoreg(\n",
    "                regressor = RandomForestRegressor(random_state=123),\n",
    "                lags = 24\n",
    "                )\n",
    "\n",
    "forecaster.fit(y=train['num_kwh'])\n",
    "forecaster\n",
    "\n",
    "predictions = forecaster.predict(steps=units_to_forecast)\n",
    "\n",
    "predictions.index = test.index\n",
    "\n",
    "actual = train[-7*24:]\n",
    "\n",
    "fig, ax = plt.subplots(figsize=(9, 4))\n",
    "actual['num_kwh'].plot(ax=ax, label='train')\n",
    "test['num_kwh'].plot(ax=ax, label='test')\n",
    "predictions.plot(ax=ax, label='predictions')\n",
    "ax.legend();\n",
    "error_mse = mean_squared_error(\n",
    "                y_true = test['num_kwh'],\n",
    "                y_pred = predictions\n",
    "            )\n",
    "\n",
    "print(f\"Test error (mse): {error_mse}\")"
   ]
  },
  {
   "cell_type": "markdown",
   "id": "9e4558a3",
   "metadata": {},
   "source": [
    "## Hyperparameter tuning"
   ]
  },
  {
   "cell_type": "code",
   "execution_count": null,
   "id": "041e4c55",
   "metadata": {},
   "outputs": [],
   "source": [
    "forecaster = ForecasterAutoreg(\n",
    "                regressor = RandomForestRegressor(random_state=123),\n",
    "                lags      = 1 # This value will be replaced in the grid search\n",
    "             )\n",
    "\n",
    "# Lags used as predictors\n",
    "lags_grid = [1, 2, 3, 12, 24, 48]\n",
    "\n",
    "# Regressor's hyperparameters\n",
    "param_grid = {'n_estimators': [i for i in range(50,100,10)],\n",
    "              'max_depth': [i for i in range(3,10,1)]}\n",
    "\n",
    "results_grid = grid_search_forecaster(\n",
    "                        forecaster         = forecaster,\n",
    "                        y                  = train_series[:]['num_kwh_normalized'],\n",
    "                        param_grid         = param_grid,\n",
    "                        lags_grid          = lags_grid,\n",
    "                        steps              = units_to_forecast,\n",
    "                        refit              = False,\n",
    "                        metric             = 'mean_squared_error',\n",
    "                        initial_train_size = int(len(train)),\n",
    "                        return_best        = True,\n",
    "                        fixed_train_size   = True,\n",
    "                        verbose            = False\n",
    "               )\n",
    "results_grid"
   ]
  },
  {
   "cell_type": "code",
   "execution_count": null,
   "id": "1edaa800",
   "metadata": {},
   "outputs": [],
   "source": [
    "metric, predictions = backtesting_forecaster(\n",
    "                            forecaster = forecaster,\n",
    "                            y          = train_series[:]['num_kwh_normalized'],\n",
    "                            initial_train_size = 24*365,\n",
    "                            steps      = units_to_forecast,\n",
    "                            refit      = True,\n",
    "                            interval   = [5/2, 100-5/2],\n",
    "                            n_boot     = 500,\n",
    "                            metric     = 'mean_squared_error',\n",
    "                            fixed_train_size   = True,\n",
    "                            verbose    = True\n",
    "                        )\n",
    "predictions.head(4)"
   ]
  },
  {
   "cell_type": "code",
   "execution_count": null,
   "id": "56e718ab",
   "metadata": {},
   "outputs": [],
   "source": [
    "predictions.index = train_series[24*365:]['num_kwh_normalized'].index\n",
    "\n",
    "fig, ax=plt.subplots(figsize=(22, 6))\n",
    "predictions['pred'].plot(ax=ax, label='predictions', color=\"green\",alpha=0.5)\n",
    "train_series[24*365:]['num_kwh_normalized'].plot(ax=ax, label='test', color=\"darkorange\", alpha=0.5)\n",
    "train_series[:24*365]['num_kwh_normalized'].plot(ax=ax, label='train', color=\"blue\")\n",
    "ax.fill_between(\n",
    "    predictions.index,\n",
    "    predictions['lower_bound'],\n",
    "    predictions['upper_bound'],\n",
    "    color = 'deepskyblue',\n",
    "    alpha = 0.3,\n",
    "    label = '95% interval'\n",
    ")\n",
    "#ax.yaxis.set_major_formatter(ticker.EngFormatter())\n",
    "ax.set_ylabel('kwh')\n",
    "ax.set_title('Energy demand forecast')\n",
    "ax.legend();"
   ]
  },
  {
   "cell_type": "code",
   "execution_count": null,
   "id": "b0975651",
   "metadata": {},
   "outputs": [],
   "source": [
    "error_mse = mean_squared_error(\n",
    "                y_true = train_series[24*365:]['num_kwh_normalized'],\n",
    "                y_pred = predictions['pred']\n",
    "            )\n",
    "\n",
    "print(f\"Test error (mse): {error_mse}\")\n",
    "\n",
    "inside_interval = np.where(\n",
    "                     (train_series.loc[predictions.index, 'num_kwh_normalized'] >= predictions['lower_bound']) & \\\n",
    "                     (train_series.loc[predictions.index, 'num_kwh_normalized'] <= predictions['upper_bound']),\n",
    "                     True,\n",
    "                     False\n",
    "                  )\n",
    "\n",
    "coverage = inside_interval.mean()\n",
    "print(f\"Coverage of the predicted interval on test data: {100 * coverage}%\")"
   ]
  },
  {
   "cell_type": "code",
   "execution_count": null,
   "id": "943f0fa5",
   "metadata": {},
   "outputs": [],
   "source": [
    "naive_model = np.zeros((len(predictions)))\n",
    "\n",
    "naive_mse = mean_squared_error(\n",
    "                y_true = train_series[24*365:]['num_kwh_normalized'],\n",
    "                y_pred = naive_model\n",
    "            )\n",
    "print(f\"Test error (mse): {naive_mse}\")\n",
    "\n",
    "better = error_mse/naive_mse\n",
    "\n",
    "print(f\"How much fractionally less error that a naive model: {better*100}%\")"
   ]
  },
  {
   "cell_type": "code",
   "execution_count": null,
   "id": "2c5aacb0",
   "metadata": {},
   "outputs": [],
   "source": [
    "naive_model2 = train_series[24*365-24*7:-24*7]\n",
    "naive_model2.index = train_series[24*365:].index\n",
    "\n",
    "naive_mse2 = mean_squared_error(\n",
    "                y_true = train_series[24*365:]['num_kwh_normalized'],\n",
    "                y_pred = naive_model2['num_kwh_normalized']\n",
    "            )\n",
    "print(f\"Test error (mse): {naive_mse2}\")\n",
    "\n",
    "better2 = error_mse/naive_mse2\n",
    "\n",
    "print(f\"How much fractionally less error that a naive model: {better2*100}%\")"
   ]
  }
 ],
 "metadata": {
  "kernelspec": {
   "display_name": "Python 3 (ipykernel)",
   "language": "python",
   "name": "python3"
  },
  "language_info": {
   "codemirror_mode": {
    "name": "ipython",
    "version": 3
   },
   "file_extension": ".py",
   "mimetype": "text/x-python",
   "name": "python",
   "nbconvert_exporter": "python",
   "pygments_lexer": "ipython3",
   "version": "3.9.12"
  }
 },
 "nbformat": 4,
 "nbformat_minor": 5
}
